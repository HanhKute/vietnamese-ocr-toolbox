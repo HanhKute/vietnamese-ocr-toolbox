{
 "cells": [
  {
   "metadata": {
    "ExecuteTime": {
     "end_time": "2025-09-26T08:59:50.421985Z",
     "start_time": "2025-09-26T08:59:47.619352Z"
    }
   },
   "cell_type": "code",
   "source": "!pip install -r requirements.txt",
   "id": "f3f22979358bcbf1",
   "outputs": [
    {
     "name": "stdout",
     "output_type": "stream",
     "text": [
      "Ignoring ocrd-fork-pylsd: markers 'platform_system != \"Windows\"' don't match your environment\n",
      "Requirement already satisfied: pyyaml>=5.1 in c:\\users\\khack\\project\\vietnamese-ocr-toolbox\\.venv1\\lib\\site-packages (from -r requirements.txt (line 1)) (6.0.2)\n",
      "Requirement already satisfied: numpy in c:\\users\\khack\\project\\vietnamese-ocr-toolbox\\.venv1\\lib\\site-packages (from -r requirements.txt (line 3)) (2.0.2)\n",
      "Requirement already satisfied: pandas in c:\\users\\khack\\project\\vietnamese-ocr-toolbox\\.venv1\\lib\\site-packages (from -r requirements.txt (line 4)) (2.3.2)\n",
      "Requirement already satisfied: matplotlib in c:\\users\\khack\\project\\vietnamese-ocr-toolbox\\.venv1\\lib\\site-packages (from -r requirements.txt (line 5)) (3.9.4)\n",
      "Requirement already satisfied: pillow in c:\\users\\khack\\project\\vietnamese-ocr-toolbox\\.venv1\\lib\\site-packages (from -r requirements.txt (line 6)) (11.3.0)\n",
      "Requirement already satisfied: opencv-python in c:\\users\\khack\\project\\vietnamese-ocr-toolbox\\.venv1\\lib\\site-packages (from -r requirements.txt (line 9)) (4.12.0.88)\n",
      "Requirement already satisfied: torch in c:\\users\\khack\\project\\vietnamese-ocr-toolbox\\.venv1\\lib\\site-packages (from -r requirements.txt (line 10)) (2.8.0)\n",
      "Requirement already satisfied: torchvision in c:\\users\\khack\\project\\vietnamese-ocr-toolbox\\.venv1\\lib\\site-packages (from -r requirements.txt (line 11)) (0.23.0)\n",
      "Requirement already satisfied: tqdm in c:\\users\\khack\\project\\vietnamese-ocr-toolbox\\.venv1\\lib\\site-packages (from -r requirements.txt (line 14)) (4.67.1)\n",
      "Requirement already satisfied: tensorboard in c:\\users\\khack\\project\\vietnamese-ocr-toolbox\\.venv1\\lib\\site-packages (from -r requirements.txt (line 16)) (2.20.0)\n",
      "Requirement already satisfied: pycocotools>=2.0.7 in c:\\users\\khack\\project\\vietnamese-ocr-toolbox\\.venv1\\lib\\site-packages (from -r requirements.txt (line 18)) (2.0.10)\n",
      "Requirement already satisfied: pyclipper in c:\\users\\khack\\project\\vietnamese-ocr-toolbox\\.venv1\\lib\\site-packages (from -r requirements.txt (line 19)) (1.3.0.post6)\n",
      "Requirement already satisfied: colorlog in c:\\users\\khack\\project\\vietnamese-ocr-toolbox\\.venv1\\lib\\site-packages (from -r requirements.txt (line 21)) (6.9.0)\n",
      "Requirement already satisfied: pylsd-nova in c:\\users\\khack\\project\\vietnamese-ocr-toolbox\\.venv1\\lib\\site-packages (from -r requirements.txt (line 23)) (1.2.1)\n",
      "Requirement already satisfied: einops in c:\\users\\khack\\project\\vietnamese-ocr-toolbox\\.venv1\\lib\\site-packages (from -r requirements.txt (line 25)) (0.8.1)\n",
      "Requirement already satisfied: prefetch_generator in c:\\users\\khack\\project\\vietnamese-ocr-toolbox\\.venv1\\lib\\site-packages (from -r requirements.txt (line 26)) (1.0.3)\n",
      "Requirement already satisfied: imgaug in c:\\users\\khack\\project\\vietnamese-ocr-toolbox\\.venv1\\lib\\site-packages (from -r requirements.txt (line 27)) (0.4.0)\n",
      "Requirement already satisfied: lmdb in c:\\users\\khack\\project\\vietnamese-ocr-toolbox\\.venv1\\lib\\site-packages (from -r requirements.txt (line 28)) (1.7.3)\n",
      "Requirement already satisfied: transformers in c:\\users\\khack\\project\\vietnamese-ocr-toolbox\\.venv1\\lib\\site-packages (from -r requirements.txt (line 29)) (4.56.2)\n",
      "Requirement already satisfied: torchnet in c:\\users\\khack\\project\\vietnamese-ocr-toolbox\\.venv1\\lib\\site-packages (from -r requirements.txt (line 30)) (0.0.4)\n",
      "Requirement already satisfied: gdown in c:\\users\\khack\\project\\vietnamese-ocr-toolbox\\.venv1\\lib\\site-packages (from -r requirements.txt (line 31)) (5.2.0)\n",
      "Requirement already satisfied: webcolors in c:\\users\\khack\\project\\vietnamese-ocr-toolbox\\.venv1\\lib\\site-packages (from -r requirements.txt (line 32)) (24.11.1)\n",
      "Requirement already satisfied: ydata-profiling in c:\\users\\khack\\project\\vietnamese-ocr-toolbox\\.venv1\\lib\\site-packages (from -r requirements.txt (line 34)) (4.16.1)\n",
      "Requirement already satisfied: scikit-learn in c:\\users\\khack\\project\\vietnamese-ocr-toolbox\\.venv1\\lib\\site-packages (from -r requirements.txt (line 35)) (1.6.1)\n",
      "Requirement already satisfied: python-dateutil>=2.8.2 in c:\\users\\khack\\project\\vietnamese-ocr-toolbox\\.venv1\\lib\\site-packages (from pandas->-r requirements.txt (line 4)) (2.9.0.post0)\n",
      "Requirement already satisfied: pytz>=2020.1 in c:\\users\\khack\\project\\vietnamese-ocr-toolbox\\.venv1\\lib\\site-packages (from pandas->-r requirements.txt (line 4)) (2025.2)\n",
      "Requirement already satisfied: tzdata>=2022.7 in c:\\users\\khack\\project\\vietnamese-ocr-toolbox\\.venv1\\lib\\site-packages (from pandas->-r requirements.txt (line 4)) (2025.2)\n",
      "Requirement already satisfied: contourpy>=1.0.1 in c:\\users\\khack\\project\\vietnamese-ocr-toolbox\\.venv1\\lib\\site-packages (from matplotlib->-r requirements.txt (line 5)) (1.3.0)\n",
      "Requirement already satisfied: cycler>=0.10 in c:\\users\\khack\\project\\vietnamese-ocr-toolbox\\.venv1\\lib\\site-packages (from matplotlib->-r requirements.txt (line 5)) (0.12.1)\n",
      "Requirement already satisfied: fonttools>=4.22.0 in c:\\users\\khack\\project\\vietnamese-ocr-toolbox\\.venv1\\lib\\site-packages (from matplotlib->-r requirements.txt (line 5)) (4.60.0)\n",
      "Requirement already satisfied: kiwisolver>=1.3.1 in c:\\users\\khack\\project\\vietnamese-ocr-toolbox\\.venv1\\lib\\site-packages (from matplotlib->-r requirements.txt (line 5)) (1.4.7)\n",
      "Requirement already satisfied: packaging>=20.0 in c:\\users\\khack\\project\\vietnamese-ocr-toolbox\\.venv1\\lib\\site-packages (from matplotlib->-r requirements.txt (line 5)) (25.0)\n",
      "Requirement already satisfied: pyparsing>=2.3.1 in c:\\users\\khack\\project\\vietnamese-ocr-toolbox\\.venv1\\lib\\site-packages (from matplotlib->-r requirements.txt (line 5)) (3.2.5)\n",
      "Requirement already satisfied: importlib-resources>=3.2.0 in c:\\users\\khack\\project\\vietnamese-ocr-toolbox\\.venv1\\lib\\site-packages (from matplotlib->-r requirements.txt (line 5)) (6.5.2)\n",
      "Requirement already satisfied: filelock in c:\\users\\khack\\project\\vietnamese-ocr-toolbox\\.venv1\\lib\\site-packages (from torch->-r requirements.txt (line 10)) (3.19.1)\n",
      "Requirement already satisfied: typing-extensions>=4.10.0 in c:\\users\\khack\\project\\vietnamese-ocr-toolbox\\.venv1\\lib\\site-packages (from torch->-r requirements.txt (line 10)) (4.15.0)\n",
      "Requirement already satisfied: sympy>=1.13.3 in c:\\users\\khack\\project\\vietnamese-ocr-toolbox\\.venv1\\lib\\site-packages (from torch->-r requirements.txt (line 10)) (1.14.0)\n",
      "Requirement already satisfied: networkx in c:\\users\\khack\\project\\vietnamese-ocr-toolbox\\.venv1\\lib\\site-packages (from torch->-r requirements.txt (line 10)) (3.2.1)\n",
      "Requirement already satisfied: jinja2 in c:\\users\\khack\\project\\vietnamese-ocr-toolbox\\.venv1\\lib\\site-packages (from torch->-r requirements.txt (line 10)) (3.1.6)\n",
      "Requirement already satisfied: fsspec in c:\\users\\khack\\project\\vietnamese-ocr-toolbox\\.venv1\\lib\\site-packages (from torch->-r requirements.txt (line 10)) (2025.9.0)\n",
      "Requirement already satisfied: colorama in c:\\users\\khack\\project\\vietnamese-ocr-toolbox\\.venv1\\lib\\site-packages (from tqdm->-r requirements.txt (line 14)) (0.4.6)\n",
      "Requirement already satisfied: absl-py>=0.4 in c:\\users\\khack\\project\\vietnamese-ocr-toolbox\\.venv1\\lib\\site-packages (from tensorboard->-r requirements.txt (line 16)) (2.3.1)\n",
      "Requirement already satisfied: grpcio>=1.48.2 in c:\\users\\khack\\project\\vietnamese-ocr-toolbox\\.venv1\\lib\\site-packages (from tensorboard->-r requirements.txt (line 16)) (1.75.0)\n",
      "Requirement already satisfied: markdown>=2.6.8 in c:\\users\\khack\\project\\vietnamese-ocr-toolbox\\.venv1\\lib\\site-packages (from tensorboard->-r requirements.txt (line 16)) (3.9)\n",
      "Requirement already satisfied: protobuf!=4.24.0,>=3.19.6 in c:\\users\\khack\\project\\vietnamese-ocr-toolbox\\.venv1\\lib\\site-packages (from tensorboard->-r requirements.txt (line 16)) (6.32.1)\n",
      "Requirement already satisfied: setuptools>=41.0.0 in c:\\users\\khack\\project\\vietnamese-ocr-toolbox\\.venv1\\lib\\site-packages (from tensorboard->-r requirements.txt (line 16)) (80.9.0)\n",
      "Requirement already satisfied: tensorboard-data-server<0.8.0,>=0.7.0 in c:\\users\\khack\\project\\vietnamese-ocr-toolbox\\.venv1\\lib\\site-packages (from tensorboard->-r requirements.txt (line 16)) (0.7.2)\n",
      "Requirement already satisfied: werkzeug>=1.0.1 in c:\\users\\khack\\project\\vietnamese-ocr-toolbox\\.venv1\\lib\\site-packages (from tensorboard->-r requirements.txt (line 16)) (3.1.3)\n",
      "Requirement already satisfied: six in c:\\users\\khack\\project\\vietnamese-ocr-toolbox\\.venv1\\lib\\site-packages (from imgaug->-r requirements.txt (line 27)) (1.17.0)\n",
      "Requirement already satisfied: scipy in c:\\users\\khack\\project\\vietnamese-ocr-toolbox\\.venv1\\lib\\site-packages (from imgaug->-r requirements.txt (line 27)) (1.13.1)\n",
      "Requirement already satisfied: scikit-image>=0.14.2 in c:\\users\\khack\\project\\vietnamese-ocr-toolbox\\.venv1\\lib\\site-packages (from imgaug->-r requirements.txt (line 27)) (0.24.0)\n",
      "Requirement already satisfied: imageio in c:\\users\\khack\\project\\vietnamese-ocr-toolbox\\.venv1\\lib\\site-packages (from imgaug->-r requirements.txt (line 27)) (2.37.0)\n",
      "Requirement already satisfied: Shapely in c:\\users\\khack\\project\\vietnamese-ocr-toolbox\\.venv1\\lib\\site-packages (from imgaug->-r requirements.txt (line 27)) (2.0.7)\n",
      "Requirement already satisfied: huggingface-hub<1.0,>=0.34.0 in c:\\users\\khack\\project\\vietnamese-ocr-toolbox\\.venv1\\lib\\site-packages (from transformers->-r requirements.txt (line 29)) (0.35.0)\n",
      "Requirement already satisfied: regex!=2019.12.17 in c:\\users\\khack\\project\\vietnamese-ocr-toolbox\\.venv1\\lib\\site-packages (from transformers->-r requirements.txt (line 29)) (2025.9.18)\n",
      "Requirement already satisfied: requests in c:\\users\\khack\\project\\vietnamese-ocr-toolbox\\.venv1\\lib\\site-packages (from transformers->-r requirements.txt (line 29)) (2.32.5)\n",
      "Requirement already satisfied: tokenizers<=0.23.0,>=0.22.0 in c:\\users\\khack\\project\\vietnamese-ocr-toolbox\\.venv1\\lib\\site-packages (from transformers->-r requirements.txt (line 29)) (0.22.1)\n",
      "Requirement already satisfied: safetensors>=0.4.3 in c:\\users\\khack\\project\\vietnamese-ocr-toolbox\\.venv1\\lib\\site-packages (from transformers->-r requirements.txt (line 29)) (0.6.2)\n",
      "Requirement already satisfied: visdom in c:\\users\\khack\\project\\vietnamese-ocr-toolbox\\.venv1\\lib\\site-packages (from torchnet->-r requirements.txt (line 30)) (0.2.4)\n",
      "Requirement already satisfied: beautifulsoup4 in c:\\users\\khack\\project\\vietnamese-ocr-toolbox\\.venv1\\lib\\site-packages (from gdown->-r requirements.txt (line 31)) (4.13.5)\n",
      "Requirement already satisfied: pydantic>=2 in c:\\users\\khack\\project\\vietnamese-ocr-toolbox\\.venv1\\lib\\site-packages (from ydata-profiling->-r requirements.txt (line 34)) (2.11.9)\n",
      "Requirement already satisfied: visions<0.8.2,>=0.7.5 in c:\\users\\khack\\project\\vietnamese-ocr-toolbox\\.venv1\\lib\\site-packages (from visions[type_image_path]<0.8.2,>=0.7.5->ydata-profiling->-r requirements.txt (line 34)) (0.8.1)\n",
      "Requirement already satisfied: htmlmin==0.1.12 in c:\\users\\khack\\project\\vietnamese-ocr-toolbox\\.venv1\\lib\\site-packages (from ydata-profiling->-r requirements.txt (line 34)) (0.1.12)\n",
      "Requirement already satisfied: phik<0.13,>=0.11.1 in c:\\users\\khack\\project\\vietnamese-ocr-toolbox\\.venv1\\lib\\site-packages (from ydata-profiling->-r requirements.txt (line 34)) (0.12.5)\n",
      "Requirement already satisfied: seaborn<0.14,>=0.10.1 in c:\\users\\khack\\project\\vietnamese-ocr-toolbox\\.venv1\\lib\\site-packages (from ydata-profiling->-r requirements.txt (line 34)) (0.13.2)\n",
      "Requirement already satisfied: multimethod<2,>=1.4 in c:\\users\\khack\\project\\vietnamese-ocr-toolbox\\.venv1\\lib\\site-packages (from ydata-profiling->-r requirements.txt (line 34)) (1.12)\n",
      "Requirement already satisfied: statsmodels<1,>=0.13.2 in c:\\users\\khack\\project\\vietnamese-ocr-toolbox\\.venv1\\lib\\site-packages (from ydata-profiling->-r requirements.txt (line 34)) (0.14.5)\n",
      "Requirement already satisfied: typeguard<5,>=3 in c:\\users\\khack\\project\\vietnamese-ocr-toolbox\\.venv1\\lib\\site-packages (from ydata-profiling->-r requirements.txt (line 34)) (4.4.4)\n",
      "Requirement already satisfied: imagehash==4.3.1 in c:\\users\\khack\\project\\vietnamese-ocr-toolbox\\.venv1\\lib\\site-packages (from ydata-profiling->-r requirements.txt (line 34)) (4.3.1)\n",
      "Requirement already satisfied: wordcloud>=1.9.3 in c:\\users\\khack\\project\\vietnamese-ocr-toolbox\\.venv1\\lib\\site-packages (from ydata-profiling->-r requirements.txt (line 34)) (1.9.4)\n",
      "Requirement already satisfied: dacite>=1.8 in c:\\users\\khack\\project\\vietnamese-ocr-toolbox\\.venv1\\lib\\site-packages (from ydata-profiling->-r requirements.txt (line 34)) (1.9.2)\n",
      "Requirement already satisfied: numba<=0.61,>=0.56.0 in c:\\users\\khack\\project\\vietnamese-ocr-toolbox\\.venv1\\lib\\site-packages (from ydata-profiling->-r requirements.txt (line 34)) (0.60.0)\n",
      "Requirement already satisfied: PyWavelets in c:\\users\\khack\\project\\vietnamese-ocr-toolbox\\.venv1\\lib\\site-packages (from imagehash==4.3.1->ydata-profiling->-r requirements.txt (line 34)) (1.6.0)\n",
      "Requirement already satisfied: MarkupSafe>=2.0 in c:\\users\\khack\\project\\vietnamese-ocr-toolbox\\.venv1\\lib\\site-packages (from jinja2->torch->-r requirements.txt (line 10)) (3.0.2)\n",
      "Requirement already satisfied: llvmlite<0.44,>=0.43.0dev0 in c:\\users\\khack\\project\\vietnamese-ocr-toolbox\\.venv1\\lib\\site-packages (from numba<=0.61,>=0.56.0->ydata-profiling->-r requirements.txt (line 34)) (0.43.0)\n",
      "Requirement already satisfied: joblib>=0.14.1 in c:\\users\\khack\\project\\vietnamese-ocr-toolbox\\.venv1\\lib\\site-packages (from phik<0.13,>=0.11.1->ydata-profiling->-r requirements.txt (line 34)) (1.5.2)\n",
      "Requirement already satisfied: charset_normalizer<4,>=2 in c:\\users\\khack\\project\\vietnamese-ocr-toolbox\\.venv1\\lib\\site-packages (from requests->transformers->-r requirements.txt (line 29)) (3.4.3)\n",
      "Requirement already satisfied: idna<4,>=2.5 in c:\\users\\khack\\project\\vietnamese-ocr-toolbox\\.venv1\\lib\\site-packages (from requests->transformers->-r requirements.txt (line 29)) (3.10)\n",
      "Requirement already satisfied: urllib3<3,>=1.21.1 in c:\\users\\khack\\project\\vietnamese-ocr-toolbox\\.venv1\\lib\\site-packages (from requests->transformers->-r requirements.txt (line 29)) (2.5.0)\n",
      "Requirement already satisfied: certifi>=2017.4.17 in c:\\users\\khack\\project\\vietnamese-ocr-toolbox\\.venv1\\lib\\site-packages (from requests->transformers->-r requirements.txt (line 29)) (2025.8.3)\n",
      "Requirement already satisfied: patsy>=0.5.6 in c:\\users\\khack\\project\\vietnamese-ocr-toolbox\\.venv1\\lib\\site-packages (from statsmodels<1,>=0.13.2->ydata-profiling->-r requirements.txt (line 34)) (1.0.1)\n",
      "Requirement already satisfied: importlib_metadata>=3.6 in c:\\users\\khack\\project\\vietnamese-ocr-toolbox\\.venv1\\lib\\site-packages (from typeguard<5,>=3->ydata-profiling->-r requirements.txt (line 34)) (8.7.0)\n",
      "Requirement already satisfied: attrs>=19.3.0 in c:\\users\\khack\\project\\vietnamese-ocr-toolbox\\.venv1\\lib\\site-packages (from visions<0.8.2,>=0.7.5->visions[type_image_path]<0.8.2,>=0.7.5->ydata-profiling->-r requirements.txt (line 34)) (25.3.0)\n",
      "Requirement already satisfied: puremagic in c:\\users\\khack\\project\\vietnamese-ocr-toolbox\\.venv1\\lib\\site-packages (from visions<0.8.2,>=0.7.5->visions[type_image_path]<0.8.2,>=0.7.5->ydata-profiling->-r requirements.txt (line 34)) (1.30)\n",
      "Requirement already satisfied: threadpoolctl>=3.1.0 in c:\\users\\khack\\project\\vietnamese-ocr-toolbox\\.venv1\\lib\\site-packages (from scikit-learn->-r requirements.txt (line 35)) (3.6.0)\n",
      "Requirement already satisfied: zipp>=3.20 in c:\\users\\khack\\project\\vietnamese-ocr-toolbox\\.venv1\\lib\\site-packages (from importlib_metadata>=3.6->typeguard<5,>=3->ydata-profiling->-r requirements.txt (line 34)) (3.23.0)\n",
      "Requirement already satisfied: annotated-types>=0.6.0 in c:\\users\\khack\\project\\vietnamese-ocr-toolbox\\.venv1\\lib\\site-packages (from pydantic>=2->ydata-profiling->-r requirements.txt (line 34)) (0.7.0)\n",
      "Requirement already satisfied: pydantic-core==2.33.2 in c:\\users\\khack\\project\\vietnamese-ocr-toolbox\\.venv1\\lib\\site-packages (from pydantic>=2->ydata-profiling->-r requirements.txt (line 34)) (2.33.2)\n",
      "Requirement already satisfied: typing-inspection>=0.4.0 in c:\\users\\khack\\project\\vietnamese-ocr-toolbox\\.venv1\\lib\\site-packages (from pydantic>=2->ydata-profiling->-r requirements.txt (line 34)) (0.4.1)\n",
      "Requirement already satisfied: tifffile>=2022.8.12 in c:\\users\\khack\\project\\vietnamese-ocr-toolbox\\.venv1\\lib\\site-packages (from scikit-image>=0.14.2->imgaug->-r requirements.txt (line 27)) (2024.8.30)\n",
      "Requirement already satisfied: lazy-loader>=0.4 in c:\\users\\khack\\project\\vietnamese-ocr-toolbox\\.venv1\\lib\\site-packages (from scikit-image>=0.14.2->imgaug->-r requirements.txt (line 27)) (0.4)\n",
      "Requirement already satisfied: mpmath<1.4,>=1.1.0 in c:\\users\\khack\\project\\vietnamese-ocr-toolbox\\.venv1\\lib\\site-packages (from sympy>=1.13.3->torch->-r requirements.txt (line 10)) (1.3.0)\n",
      "Requirement already satisfied: soupsieve>1.2 in c:\\users\\khack\\project\\vietnamese-ocr-toolbox\\.venv1\\lib\\site-packages (from beautifulsoup4->gdown->-r requirements.txt (line 31)) (2.8)\n",
      "Requirement already satisfied: PySocks!=1.5.7,>=1.5.6 in c:\\users\\khack\\project\\vietnamese-ocr-toolbox\\.venv1\\lib\\site-packages (from requests[socks]->gdown->-r requirements.txt (line 31)) (1.7.1)\n",
      "Requirement already satisfied: tornado in c:\\users\\khack\\project\\vietnamese-ocr-toolbox\\.venv1\\lib\\site-packages (from visdom->torchnet->-r requirements.txt (line 30)) (6.5.2)\n",
      "Requirement already satisfied: jsonpatch in c:\\users\\khack\\project\\vietnamese-ocr-toolbox\\.venv1\\lib\\site-packages (from visdom->torchnet->-r requirements.txt (line 30)) (1.33)\n",
      "Requirement already satisfied: websocket-client in c:\\users\\khack\\project\\vietnamese-ocr-toolbox\\.venv1\\lib\\site-packages (from visdom->torchnet->-r requirements.txt (line 30)) (1.8.0)\n",
      "Requirement already satisfied: jsonpointer>=1.9 in c:\\users\\khack\\project\\vietnamese-ocr-toolbox\\.venv1\\lib\\site-packages (from jsonpatch->visdom->torchnet->-r requirements.txt (line 30)) (3.0.0)\n"
     ]
    }
   ],
   "execution_count": 5
  },
  {
   "metadata": {
    "ExecuteTime": {
     "end_time": "2025-09-30T03:54:23.769424Z",
     "start_time": "2025-09-30T03:49:51.695504Z"
    }
   },
   "cell_type": "code",
   "source": [
    "# Ensure local repository is on sys.path so that the local `tool` package is imported\n",
    "import sys, os\n",
    "repo_root = os.getcwd()\n",
    "if repo_root not in sys.path:\n",
    "    sys.path.insert(0, repo_root)\n",
    "\n",
    "from tool.utils import download_pretrained_weights\n",
    "\n",
    "# Ensure a local weights directory exists (avoid hardcoded Colab paths)\n",
    "weights_dir = os.path.join(repo_root, \"weights\")\n",
    "os.makedirs(weights_dir, exist_ok=True)\n",
    "\n",
    "# Download pretrained weights to local repo-relative paths\n",
    "download_pretrained_weights(\"pan_resnet18_sroie19\", cached=os.path.join(weights_dir, \"PANNet_best_map.pth\"))\n",
    "download_pretrained_weights(\"transformerocr_mcocr\", cached=os.path.join(weights_dir, \"transformerocr.pth\"))\n",
    "download_pretrained_weights(\"phobert_mcocr\", cached=os.path.join(weights_dir, \"phobert_report.pth\"))"
   ],
   "id": "7a3880c50617d823",
   "outputs": [
    {
     "name": "stderr",
     "output_type": "stream",
     "text": [
      "Cached downloading...\n",
      "From (original): https://drive.google.com/uc?id=1-QvIN0MrP28URQILYvLaF1G1eTx2oh8W\n",
      "From (redirected): https://drive.google.com/uc?id=1-QvIN0MrP28URQILYvLaF1G1eTx2oh8W&confirm=t&uuid=6df3bf8d-be50-499e-92c0-6e0d3524528e\n",
      "To: C:\\Users\\khack\\Project\\vietnamese-ocr-toolbox\\weights\\PANNet_best_map.pth\n",
      "100%|██████████| 138M/138M [01:11<00:00, 1.94MB/s] \n",
      "Cached downloading...\n",
      "From (original): https://drive.google.com/uc?id=1qpXp_-digz2HPTGY_GPdwstzGLhjC_ot\n",
      "From (redirected): https://drive.google.com/uc?id=1qpXp_-digz2HPTGY_GPdwstzGLhjC_ot&confirm=t&uuid=a1e8b2ba-467d-4dc2-a105-b07bce3326c7\n",
      "To: C:\\Users\\khack\\Project\\vietnamese-ocr-toolbox\\weights\\transformerocr.pth\n",
      "100%|██████████| 152M/152M [00:40<00:00, 3.72MB/s] \n",
      "Cached downloading...\n",
      "From (original): https://drive.google.com/uc?id=1v4GQPg4Jx5FWvqJ-2k9YCxEd6iFdlXXa\n",
      "From (redirected): https://drive.google.com/uc?id=1v4GQPg4Jx5FWvqJ-2k9YCxEd6iFdlXXa&confirm=t&uuid=59ca7a30-ba5e-4556-b3eb-46373f859755\n",
      "To: C:\\Users\\khack\\Project\\vietnamese-ocr-toolbox\\weights\\phobert_report.pth\n",
      "100%|██████████| 545M/545M [02:28<00:00, 3.66MB/s] \n"
     ]
    },
    {
     "data": {
      "text/plain": [
       "'C:\\\\Users\\\\khack\\\\Project\\\\vietnamese-ocr-toolbox\\\\weights\\\\phobert_report.pth'"
      ]
     },
     "execution_count": 12,
     "metadata": {},
     "output_type": "execute_result"
    }
   ],
   "execution_count": 12
  },
  {
   "metadata": {
    "ExecuteTime": {
     "end_time": "2025-09-30T06:13:38.727032Z",
     "start_time": "2025-09-30T06:08:25.309049Z"
    }
   },
   "cell_type": "code",
   "source": [
    "!python run.py --input=.\\d2.jpg --output=.\\results --do_retrieve --debug --find_best_rotation\n",
    "\n",
    "# img2 = Image(f\"./results/{IMAGE_ID}/cache/preprocessed.jpg\", width=600)\n",
    "# img3 = Image(f\"./results/{IMAGE_ID}/cache/detected.jpg\", width=600)\n",
    "# img4 = Image(f\"./results/{IMAGE_ID}/result.jpg\", width=600)\n",
    "\n",
    "# display(img2,img3,img4)"
   ],
   "id": "f6ec87752e7e8f09",
   "outputs": [
    {
     "name": "stdout",
     "output_type": "stream",
     "text": [
      "load pretrained models from imagenet\n"
     ]
    },
    {
     "name": "stderr",
     "output_type": "stream",
     "text": [
      "C:\\Users\\khack\\Project\\vietnamese-ocr-toolbox\\.venv1\\lib\\site-packages\\torchvision\\models\\_utils.py:208: UserWarning: The parameter 'pretrained' is deprecated since 0.13 and may be removed in the future, please use 'weights' instead.\n",
      "  warnings.warn(\n",
      "C:\\Users\\khack\\Project\\vietnamese-ocr-toolbox\\.venv1\\lib\\site-packages\\torchvision\\models\\_utils.py:223: UserWarning: Arguments other than a weight enum or `None` for 'weights' are deprecated since 0.13 and may be removed in the future. The current behavior is equivalent to passing `weights=None`.\n",
      "  warnings.warn(msg)\n",
      "C:\\Users\\khack\\Project\\vietnamese-ocr-toolbox\\.venv1\\lib\\site-packages\\torch\\nn\\modules\\transformer.py:392: UserWarning: enable_nested_tensor is True, but self.use_nested_tensor is False because encoder_layer.self_attn.batch_first was not True(use batch_first for better inference performance)\n",
      "  warnings.warn(\n",
      "C:\\Users\\khack\\Project\\vietnamese-ocr-toolbox\\.venv1\\lib\\site-packages\\huggingface_hub\\file_download.py:143: UserWarning: `huggingface_hub` cache-system uses symlinks by default to efficiently store duplicated files but your machine does not support them in C:\\Users\\khack\\.cache\\huggingface\\hub\\models--vinai--phobert-base. Caching files will still work but in a degraded version that might require more space on your disk. This warning can be disabled by setting the `HF_HUB_DISABLE_SYMLINKS_WARNING` environment variable. For more details, see https://huggingface.co/docs/huggingface_hub/how-to-cache#limitations.\n",
      "To support symlinks on Windows, you either need to activate Developer Mode or to run Python as an administrator. In order to activate developer mode, see this article: https://docs.microsoft.com/en-us/windows/apps/get-started/enable-your-device-for-development\n",
      "  warnings.warn(message)\n",
      "Xet Storage is enabled for this repo, but the 'hf_xet' package is not installed. Falling back to regular HTTP download. For better performance, install the package with: `pip install huggingface_hub[hf_xet]` or `pip install hf_xet`\n",
      "Some weights of RobertaForSequenceClassification were not initialized from the model checkpoint at vinai/phobert-base and are newly initialized: ['classifier.dense.bias', 'classifier.dense.weight', 'classifier.out_proj.bias', 'classifier.out_proj.weight']\n",
      "You should probably TRAIN this model on a down-stream task to be able to use it for predictions and inference.\n",
      "Traceback (most recent call last):\n",
      "  File \"C:\\Users\\khack\\Project\\vietnamese-ocr-toolbox\\run.py\", line 138, in <module>\n",
      "    pipeline = Pipeline(args, config)\n",
      "  File \"C:\\Users\\khack\\Project\\vietnamese-ocr-toolbox\\run.py\", line 32, in __init__\n",
      "    self.init_modules()\n",
      "  File \"C:\\Users\\khack\\Project\\vietnamese-ocr-toolbox\\run.py\", line 82, in init_modules\n",
      "    self.retrieval = Retrieval(\n",
      "  File \"C:\\Users\\khack\\Project\\vietnamese-ocr-toolbox\\modules\\__init__.py\", line 187, in __init__\n",
      "    self.bert = retrieval.PhoBERT(self.idx_mapping, bert_weight)\n",
      "  File \"C:\\Users\\khack\\Project\\vietnamese-ocr-toolbox\\modules\\retrieval\\text_classification\\infer.py\", line 76, in __init__\n",
      "    self.model = get_instance(self.cfg[\"model\"]).cuda()\n",
      "  File \"C:\\Users\\khack\\Project\\vietnamese-ocr-toolbox\\.venv1\\lib\\site-packages\\torch\\nn\\modules\\module.py\", line 1082, in cuda\n",
      "    return self._apply(lambda t: t.cuda(device))\n",
      "  File \"C:\\Users\\khack\\Project\\vietnamese-ocr-toolbox\\.venv1\\lib\\site-packages\\torch\\nn\\modules\\module.py\", line 928, in _apply\n",
      "    module._apply(fn)\n",
      "  File \"C:\\Users\\khack\\Project\\vietnamese-ocr-toolbox\\.venv1\\lib\\site-packages\\torch\\nn\\modules\\module.py\", line 928, in _apply\n",
      "    module._apply(fn)\n",
      "  File \"C:\\Users\\khack\\Project\\vietnamese-ocr-toolbox\\.venv1\\lib\\site-packages\\torch\\nn\\modules\\module.py\", line 928, in _apply\n",
      "    module._apply(fn)\n",
      "  [Previous line repeated 1 more time]\n",
      "  File \"C:\\Users\\khack\\Project\\vietnamese-ocr-toolbox\\.venv1\\lib\\site-packages\\torch\\nn\\modules\\module.py\", line 955, in _apply\n",
      "    param_applied = fn(param)\n",
      "  File \"C:\\Users\\khack\\Project\\vietnamese-ocr-toolbox\\.venv1\\lib\\site-packages\\torch\\nn\\modules\\module.py\", line 1082, in <lambda>\n",
      "    return self._apply(lambda t: t.cuda(device))\n",
      "  File \"C:\\Users\\khack\\Project\\vietnamese-ocr-toolbox\\.venv1\\lib\\site-packages\\torch\\cuda\\__init__.py\", line 403, in _lazy_init\n",
      "    raise AssertionError(\"Torch not compiled with CUDA enabled\")\n",
      "AssertionError: Torch not compiled with CUDA enabled\n",
      "Xet Storage is enabled for this repo, but the 'hf_xet' package is not installed. Falling back to regular HTTP download. For better performance, install the package with: `pip install huggingface_hub[hf_xet]` or `pip install hf_xet`\n"
     ]
    }
   ],
   "execution_count": 18
  }
 ],
 "metadata": {
  "kernelspec": {
   "display_name": "Python 3",
   "language": "python",
   "name": "python3"
  },
  "language_info": {
   "codemirror_mode": {
    "name": "ipython",
    "version": 2
   },
   "file_extension": ".py",
   "mimetype": "text/x-python",
   "name": "python",
   "nbconvert_exporter": "python",
   "pygments_lexer": "ipython2",
   "version": "2.7.6"
  }
 },
 "nbformat": 4,
 "nbformat_minor": 5
}
